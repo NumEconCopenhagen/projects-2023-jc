{
 "cells": [
  {
   "cell_type": "markdown",
   "metadata": {},
   "source": [
    "# Inaugural Project"
   ]
  },
  {
   "attachments": {},
   "cell_type": "markdown",
   "metadata": {},
   "source": [
    "> **Note the following:** \n",
    "> 1. This is an example of how to structure your **inaugural project**.\n",
    "> 1. Remember the general advice on structuring and commenting your code\n",
    "> 1. The `inauguralproject.py` file includes a function which can be used multiple times in this notebook."
   ]
  },
  {
   "cell_type": "code",
   "execution_count": 5,
   "metadata": {},
   "outputs": [],
   "source": [
    "\n",
    "import inauguralproject as ip"
   ]
  },
  {
   "cell_type": "code",
   "execution_count": 6,
   "metadata": {},
   "outputs": [
    {
     "data": {
      "text/plain": [
       "4"
      ]
     },
     "execution_count": 6,
     "metadata": {},
     "output_type": "execute_result"
    }
   ],
   "source": [
    "ip.square(2)"
   ]
  },
  {
   "attachments": {},
   "cell_type": "markdown",
   "metadata": {},
   "source": [
    "# Setting the basics"
   ]
  },
  {
   "cell_type": "code",
   "execution_count": 7,
   "metadata": {},
   "outputs": [
    {
     "name": "stdout",
     "output_type": "stream",
     "text": [
      "50\n"
     ]
    }
   ],
   "source": [
    "import numpy as np\n",
    "\n",
    "# autoreload modules when code is run. Otherwise, python will not see recent changes. \n",
    "%load_ext autoreload\n",
    "%autoreload 2\n",
    "\n",
    "# Import your own code\n",
    "import inauguralproject\n",
    "# Parameters\n",
    "rho = 2\n",
    "v = 0.001\n",
    "epsilon = 1\n",
    "omega = 0.5\n",
    "alpha = 0.5\n",
    "sigma = 1 \n",
    "wages_m = 1\n",
    "wages_f = 1\n",
    "labour_m = 30\n",
    "labour_f = 20\n",
    "hours_m = 12\n",
    "hours_f = 10\n",
    "\n",
    "consumption = wages_m*labour_m + wages_f*labour_f\n",
    "print(consumption)\n",
    "\n",
    "t_m=labour_m+hours_m\n",
    "t_f=labour_f+hours_f\n",
    "\n",
    "\n",
    "def h(hour_m, hour_f, alpha, sigma):\n",
    "    h[sigma = 0] = np.fmin(hours_m,hours_f)\n",
    "    h[sigma = 1] = hours_m**(1-alpha)*hours_f**(alpha)\n",
    "    h[simga != 0,1] =(1-alpha)*hours_m**((sigma-1)/sigma)+alpha*hours_f**((sigma-1)/sigma)\n",
    "    \n",
    "    return h\n",
    "\n",
    "q = consumption**omega*h**(1-omega)\n",
    "\n",
    "\n",
    "\n"
   ]
  },
  {
   "cell_type": "markdown",
   "metadata": {},
   "source": [
    "# Question 1"
   ]
  },
  {
   "cell_type": "markdown",
   "metadata": {},
   "source": [
    "**Explain how you solve the model**"
   ]
  },
  {
   "cell_type": "code",
   "execution_count": 2,
   "metadata": {},
   "outputs": [
    {
     "name": "stdout",
     "output_type": "stream",
     "text": [
      "[1 4 9]\n"
     ]
    }
   ],
   "source": [
    "# code for solving the model (remember documentation and comments)\n",
    "\n",
    "a = np.array([1,2,3])\n",
    "b = inauguralproject.square(a)\n",
    "print(b)"
   ]
  },
  {
   "cell_type": "markdown",
   "metadata": {},
   "source": [
    "# Question 2"
   ]
  },
  {
   "cell_type": "markdown",
   "metadata": {},
   "source": [
    "Explain your code and procedure"
   ]
  },
  {
   "cell_type": "code",
   "execution_count": 3,
   "metadata": {},
   "outputs": [],
   "source": [
    "# code"
   ]
  },
  {
   "attachments": {},
   "cell_type": "markdown",
   "metadata": {},
   "source": [
    "Comments and conclusion:\n"
   ]
  },
  {
   "cell_type": "markdown",
   "metadata": {},
   "source": [
    "# Question 3"
   ]
  },
  {
   "cell_type": "markdown",
   "metadata": {},
   "source": [
    "Explain your code and procedure"
   ]
  },
  {
   "cell_type": "code",
   "execution_count": null,
   "metadata": {},
   "outputs": [],
   "source": []
  },
  {
   "attachments": {},
   "cell_type": "markdown",
   "metadata": {},
   "source": [
    "Comments and conclusion"
   ]
  },
  {
   "attachments": {},
   "cell_type": "markdown",
   "metadata": {},
   "source": [
    "# Question 4"
   ]
  },
  {
   "cell_type": "code",
   "execution_count": 8,
   "metadata": {},
   "outputs": [
    {
     "ename": "ZeroDivisionError",
     "evalue": "0.0 cannot be raised to a negative power",
     "output_type": "error",
     "traceback": [
      "\u001b[0;31m---------------------------------------------------------------------------\u001b[0m",
      "\u001b[0;31mZeroDivisionError\u001b[0m                         Traceback (most recent call last)",
      "\u001b[0;32m/var/folders/ns/rgb610hn33x6h41cxsp1gfrw0000gn/T/ipykernel_3106/1306703821.py\u001b[0m in \u001b[0;36m<module>\u001b[0;34m\u001b[0m\n\u001b[1;32m     16\u001b[0m                 \u001b[0mH_M_values\u001b[0m\u001b[0;34m[\u001b[0m\u001b[0mi\u001b[0m\u001b[0;34m,\u001b[0m\u001b[0mj\u001b[0m\u001b[0;34m,\u001b[0m\u001b[0mh\u001b[0m\u001b[0;34m]\u001b[0m \u001b[0;34m=\u001b[0m \u001b[0;34m(\u001b[0m\u001b[0mh\u001b[0m\u001b[0;34m/\u001b[0m\u001b[0;36m2\u001b[0m\u001b[0;34m)\u001b[0m\u001b[0;34m**\u001b[0m\u001b[0;34m(\u001b[0m\u001b[0;36m1\u001b[0m\u001b[0;34m-\u001b[0m\u001b[0ma\u001b[0m\u001b[0;34m)\u001b[0m\u001b[0;34m*\u001b[0m\u001b[0;34m(\u001b[0m\u001b[0;34m(\u001b[0m\u001b[0;36m24\u001b[0m\u001b[0;34m-\u001b[0m\u001b[0mh\u001b[0m\u001b[0;34m)\u001b[0m\u001b[0;34m/\u001b[0m\u001b[0;36m2\u001b[0m\u001b[0;34m)\u001b[0m\u001b[0;34m**\u001b[0m\u001b[0ma\u001b[0m\u001b[0;34m\u001b[0m\u001b[0;34m\u001b[0m\u001b[0m\n\u001b[1;32m     17\u001b[0m             \u001b[0;32melse\u001b[0m\u001b[0;34m:\u001b[0m\u001b[0;34m\u001b[0m\u001b[0;34m\u001b[0m\u001b[0m\n\u001b[0;32m---> 18\u001b[0;31m                 \u001b[0mH_M_values\u001b[0m\u001b[0;34m[\u001b[0m\u001b[0mi\u001b[0m\u001b[0;34m,\u001b[0m\u001b[0mj\u001b[0m\u001b[0;34m,\u001b[0m\u001b[0mh\u001b[0m\u001b[0;34m]\u001b[0m \u001b[0;34m=\u001b[0m \u001b[0;34m(\u001b[0m\u001b[0;34m(\u001b[0m\u001b[0;36m1\u001b[0m\u001b[0;34m-\u001b[0m\u001b[0ma\u001b[0m\u001b[0;34m)\u001b[0m\u001b[0;34m*\u001b[0m\u001b[0;34m(\u001b[0m\u001b[0;34m(\u001b[0m\u001b[0mh\u001b[0m\u001b[0;34m/\u001b[0m\u001b[0;36m2\u001b[0m\u001b[0;34m)\u001b[0m\u001b[0;34m**\u001b[0m\u001b[0;34m(\u001b[0m\u001b[0msigma\u001b[0m\u001b[0;34m-\u001b[0m\u001b[0;36m1\u001b[0m\u001b[0;34m)\u001b[0m\u001b[0;34m/\u001b[0m\u001b[0msigma\u001b[0m\u001b[0;34m)\u001b[0m\u001b[0;34m+\u001b[0m\u001b[0ma\u001b[0m\u001b[0;34m*\u001b[0m\u001b[0;34m(\u001b[0m\u001b[0;34m(\u001b[0m\u001b[0;36m24\u001b[0m\u001b[0;34m-\u001b[0m\u001b[0mh\u001b[0m\u001b[0;34m)\u001b[0m\u001b[0;34m/\u001b[0m\u001b[0;36m2\u001b[0m\u001b[0;34m)\u001b[0m\u001b[0;34m**\u001b[0m\u001b[0;34m(\u001b[0m\u001b[0msigma\u001b[0m\u001b[0;34m-\u001b[0m\u001b[0;36m1\u001b[0m\u001b[0;34m)\u001b[0m\u001b[0;34m/\u001b[0m\u001b[0msigma\u001b[0m\u001b[0;34m)\u001b[0m\u001b[0;34m**\u001b[0m\u001b[0;34m(\u001b[0m\u001b[0;36m1\u001b[0m\u001b[0;34m/\u001b[0m\u001b[0;34m(\u001b[0m\u001b[0msigma\u001b[0m\u001b[0;34m-\u001b[0m\u001b[0;36m1\u001b[0m\u001b[0;34m)\u001b[0m\u001b[0;34m)\u001b[0m\u001b[0;34m\u001b[0m\u001b[0;34m\u001b[0m\u001b[0m\n\u001b[0m\u001b[1;32m     19\u001b[0m \u001b[0;34m\u001b[0m\u001b[0m\n\u001b[1;32m     20\u001b[0m \u001b[0;32mfor\u001b[0m \u001b[0mi\u001b[0m \u001b[0;32min\u001b[0m \u001b[0mrange\u001b[0m\u001b[0;34m(\u001b[0m\u001b[0mlen\u001b[0m\u001b[0;34m(\u001b[0m\u001b[0ma_values\u001b[0m\u001b[0;34m)\u001b[0m\u001b[0;34m)\u001b[0m\u001b[0;34m:\u001b[0m\u001b[0;34m\u001b[0m\u001b[0;34m\u001b[0m\u001b[0m\n",
      "\u001b[0;31mZeroDivisionError\u001b[0m: 0.0 cannot be raised to a negative power"
     ]
    }
   ],
   "source": [
    "import numpy as np\n",
    "\n",
    "#a\n",
    "# define the function to compute min_HF\n",
    "def min_HF(a, sigma, W_M, W_F):     #We want to claculate the minimum value of homeproduction for men and women given certain parameter values\n",
    "    if sigma == 0:\n",
    "        return W_F / W_M\n",
    "    else:\n",
    "        H_M = 1     #For simplicity we assume that men and women are equally productive, therefore we set H_M=1\n",
    "        H_F = ((W_M ** (1 - a) * W_F ** a) ** (sigma / (1 - a))) * H_M  # We assumed W_M = W_F = 1 and substituting the other values in H we simplify H_F\n",
    "        return min(H_M, H_F)\n",
    "\n",
    "\n",
    "# define the function to compute beta0_hat and beta1_hat for a given a, sigma, and range of W_M and W_F\n",
    "def compute_betas(a, sigma, w_range): #w_range indicates the different values for W_M and W_F that will be used to calculate beta0_hat and beta1_hat\n",
    "    beta0_hat = 0\n",
    "    beta1_hat = 0\n",
    "    n = 0\n",
    "    for W_F in w_range:\n",
    "        for W_M in w_range:\n",
    "            if W_M != W_F:\n",
    "                # compute log(H_F/H_M) and log(W_F/W_M)\n",
    "                log_HF_HM = np.log(min_HF(a, sigma, W_M, W_F))\n",
    "                log_WF_WM = np.log(W_F / W_M)\n",
    "                \n",
    "                # update the sum of log(W_F/W_M) and log(H_F/H_M)\n",
    "                beta0_hat += log_HF_HM\n",
    "                beta1_hat += log_WF_WM\n",
    "                n += 1   #n is being incremented by 1 each time a valid observation is used in the calculation\n",
    "                \n",
    "    # divide by the number of observations to get the averages\n",
    "    beta0_hat /= n\n",
    "    beta1_hat /= n\n",
    "    \n",
    "    return beta0_hat, beta1_hat\n",
    "\n",
    "# set the values of a and sigma to try\n",
    "a_values = np.linspacea(0.2, 0.4, 0.6, 0.8)\n",
    "sigma_values = [0, 0.5, 1, 1.5, 2]\n",
    "\n",
    "\n",
    "# set the actual values of beta0 and beta1\n",
    "beta0 = 0.4\n",
    "beta1 = -0.1\n",
    "\n",
    "# define the function to compute the minimum distance between the estimated and actual betas\n",
    "def compute_distance(a, sigma):\n",
    "    # compute beta0_hat and beta1_hat for the current a and sigma\n",
    "    beta0_hat, beta1_hat = compute_betas(a, sigma, [0.8, 0.9, 1.0, 1.1, 1.2]) #The values are given in the task as the range for W_F and W_M\n",
    "        \n",
    "    # compute the distance between the estimated betas and the actual betas\n",
    "    distance = (beta0 - beta0_hat)**2 + (beta1 - beta1_hat)**2   #The formula for Euclidean distance between two points also given in the text\n",
    "        \n",
    "    return distance   #The 'return' statement is used to send this distance value back to the caller of the function so that it can be used for further processing or analysis\n",
    "\n",
    "# initialize the variables\n",
    "best_a = None      #Set as none, could also have been set to 0. The same is valid for best_sigma\n",
    "best_sigma = None\n",
    "min_distance = float('inf')   #float('inf') is a special floating-point value that represents positive infinity. It is used here to initialize min_distance to a very large number so that any distance calculated in the loop will be smaller than min_distance at the beginning.\n",
    "\n",
    "# loop over all combinations of a and sigma\n",
    "#This code uses a nested loop to iterate over all combinations of a and sigma values provided in a_values and sigma_values\n",
    "for a in a_values:\n",
    "    for sigma in sigma_values:\n",
    "        # compute the distance between the estimated and actual betas for the current a and sigma\n",
    "        distance = compute_distance(a, sigma)\n",
    "        \n",
    "        # check if this is the best combination so far\n",
    "        if distance < min_distance: # the function is comparing the current distance between the estimated and actual betas (computed using the current values of a and sigma) to the minimum distance found so fa\n",
    "            best_a = a\n",
    "            best_sigma = sigma\n",
    "            min_distance = distance    \n",
    "\n",
    "# print the best values of a and sigma\n",
    "print(f\"Best values: a={best_a}, sigma={best_sigma}\")\n",
    "\n",
    "#b\n",
    "\n",
    "import numpy as np\n",
    "import matplotlib.pyplot as plt\n",
    "\n",
    "#In this part we will be plotting a model. We start by minimizing in an alternative way to the previous in part a\n",
    "# define the function to compute log(H_F/H_M)\n",
    "def log_HF_HM(a, sigma, W_M, W_F):\n",
    "    if sigma == 0:\n",
    "        H_F = W_F**a * W_M**(1-a)\n",
    "        H_M = W_M\n",
    "    else:\n",
    "        H_F = (W_F**(a*(1-sigma)) * (W_M**(1-sigma))**((1-a)*sigma))**(1/(1-sigma))\n",
    "        H_M = (W_M**(a*(1-sigma)) * (W_F**(1-sigma))**(a*sigma))**(1/(1-sigma))\n",
    "    return np.log(H_F/H_M)\n",
    "\n",
    "# set the values of W_M and W_F to plot\n",
    "W_M_values = np.linspace(0.1, 2, 100)\n",
    "W_F_values = np.linspace(0.1, 2, 100)\n",
    "\n",
    "# create a meshgrid of W_M and W_F values\n",
    "W_M_grid, W_F_grid = np.meshgrid(W_M_values, W_F_values)\n",
    "\n",
    "# compute the log(H_F/H_M) values for each combination of W_M and W_F\n",
    "log_HF_HM_grid = log_HF_HM(best_a, best_sigma, W_M_grid, W_F_grid)\n",
    "\n",
    "# plot the results\n",
    "fig = plt.figure(figsize=(10, 8))\n",
    "ax = fig.add_subplot(111, projection='3d')\n",
    "ax.plot_surface(W_M_grid, W_F_grid, log_HF_HM_grid, cmap='coolwarm')\n",
    "ax.set_xlabel('W_M')\n",
    "ax.set_ylabel('W_F')\n",
    "ax.set_zlabel('log(H_F/H_M)')\n",
    "plt.show()"
   ]
  },
  {
   "attachments": {},
   "cell_type": "markdown",
   "metadata": {},
   "source": [
    "Comments and conclusion"
   ]
  },
  {
   "attachments": {},
   "cell_type": "markdown",
   "metadata": {},
   "source": [
    "# Question 5"
   ]
  },
  {
   "cell_type": "code",
   "execution_count": 4,
   "metadata": {},
   "outputs": [
    {
     "name": "stdout",
     "output_type": "stream",
     "text": [
      "The optimal values of sigma, beta0, and beta1 are: 0.42, 0.50, 0.00\n",
      "The minimum objective value is: 0.35\n",
      "The optimal values of sigma_m, sigma_f, beta0, and beta1 are: 0.42, 0.42, 0.50, 0.00\n",
      "The minimum objective value is: 0.35\n"
     ]
    }
   ],
   "source": [
    "from scipy.optimize import minimize, minimize_scalar\n",
    "\n",
    "def obj_func(x, a, w, p, v, wm, wf, sigma_m, sigma_f):\n",
    "    beta0, beta1 = x\n",
    "    return ((wm*sigma_m)**2 + (wf*sigma_f)**2 + (a - beta0 - beta1*w)**2/(p*sigma_f**2) + ((1-a) - beta0 - beta1*(1-w))**2/(p*sigma_m**2) + (beta1**2/v))\n",
    "\n",
    "# Defining the parameter values\n",
    "a = 0.5\n",
    "w = 0.5\n",
    "p = 2\n",
    "v = 0.001\n",
    "wm = wf = 1\n",
    "sigma_m = 1.5\n",
    "sigma_f = 2\n",
    "\n",
    "# Estimate beta0 and beta1 on the original data\n",
    "beta0 = 0.4\n",
    "beta1 = -0.1\n",
    "\n",
    "# Find the optimal values of sigma, beta0, and beta1\n",
    "sigma0 = 1\n",
    "res = minimize_scalar(lambda s: obj_func([0.5, 0.5], a, w, p, v, wm, wf, s, s), bounds=(0.1,10), method='bounded')\n",
    "sigma_opt = res.x  # res is a variable that stores the out returned\n",
    "res = minimize(lambda x: obj_func(x, a, w, p, v, wm, wf, sigma_opt, sigma_opt), [0.5, 0.5], bounds=((0,None),(0,None)))\n",
    "beta_opt = res.x\n",
    "obj_min = res.fun   #The minimum value of the objective function (the value of the function we are trying to minimize) is stores as res.fun :)\n",
    "\n",
    "# Find the optimal values of sigma_m and sigma_f\n",
    "res = minimize(lambda x: obj_func([0.5, 0.5], a, w, p, v, wm, wf, x[0], x[1]), [1, 1], bounds=((0.1,10),(0.1,10)))\n",
    "sigma_m_opt, sigma_f_opt = res.x\n",
    "res = minimize(lambda x: obj_func(x, a, w, p, v, wm, wf, sigma_m_opt, sigma_f_opt), [0.5, 0.5], bounds=((0,None),(0,None)))\n",
    "beta_mf_opt = res.x\n",
    "obj_mf_min = res.fun\n",
    "\n",
    "print(f\"The optimal values of sigma, beta0, and beta1 are: {sigma_opt:.2f}, {beta_opt[0]:.2f}, {beta_opt[1]:.2f}\")\n",
    "print(f\"The minimum objective value is: {obj_min:.2f}\")\n",
    "print(f\"The optimal values of sigma_m, sigma_f, beta0, and beta1 are: {sigma_m_opt:.2f}, {sigma_f_opt:.2f}, {beta_mf_opt[0]:.2f}, {beta_mf_opt[1]:.2f}\")\n",
    "print(f\"The minimum objective value is: {obj_mf_min:.2f}\")\n",
    "\n",
    "#This code allows for different values of sigma for male and female home production and also includes the extension \n",
    "#where men and women are equally productive in home production.\n"
   ]
  },
  {
   "attachments": {},
   "cell_type": "markdown",
   "metadata": {},
   "source": [
    "Comments and conclusion\n"
   ]
  },
  {
   "attachments": {},
   "cell_type": "markdown",
   "metadata": {},
   "source": []
  }
 ],
 "metadata": {
  "kernelspec": {
   "display_name": "base",
   "language": "python",
   "name": "python3"
  },
  "language_info": {
   "codemirror_mode": {
    "name": "ipython",
    "version": 3
   },
   "file_extension": ".py",
   "mimetype": "text/x-python",
   "name": "python",
   "nbconvert_exporter": "python",
   "pygments_lexer": "ipython3",
   "version": "3.9.13"
  },
  "toc-autonumbering": true,
  "vscode": {
   "interpreter": {
    "hash": "ab523fa953285e999c653d9196e3ac79cd76b8e707897ce907d22f14bb60d3c8"
   }
  }
 },
 "nbformat": 4,
 "nbformat_minor": 4
}
