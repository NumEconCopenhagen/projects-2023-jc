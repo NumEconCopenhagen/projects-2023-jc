{
 "cells": [
  {
   "cell_type": "markdown",
   "metadata": {},
   "source": [
    "# Inaugural Project"
   ]
  },
  {
   "attachments": {},
   "cell_type": "markdown",
   "metadata": {},
   "source": [
    "> **Note the following:** \n",
    "> 1. This is an example of how to structure your **inaugural project**.\n",
    "> 1. Remember the general advice on structuring and commenting your code\n",
    "> 1. The `inauguralproject.py` file includes a function which can be used multiple times in this notebook."
   ]
  },
  {
   "attachments": {},
   "cell_type": "markdown",
   "metadata": {},
   "source": [
    "$$ C = w_M * L_M + w_F * L_F $$\n",
    "\n",
    "$$ Q = C^\\omega * H^(1-\\omega) $$\n",
    "\n",
    "$$ T_M = L_M + H_M $$\n",
    "\n",
    "$$ T_F = L_F + H_F $$\n",
    "\n",
    "$$ L_M, H_M, L_F, H_F >= 0 $$\n",
    "\n",
    "$$ T_M, T_F <= 24 $$"
   ]
  },
  {
   "attachments": {},
   "cell_type": "markdown",
   "metadata": {},
   "source": [
    "# Setting the basics"
   ]
  },
  {
   "cell_type": "code",
   "execution_count": 1,
   "metadata": {},
   "outputs": [],
   "source": [
    "%load_ext autoreload\n",
    "%autoreload 2\n",
    "\n",
    "from types import SimpleNamespace\n",
    "\n",
    "import numpy as np\n",
    "from scipy import optimize\n",
    "\n",
    "import pandas as pd \n",
    "import matplotlib.pyplot as plt\n",
    "\n",
    "import math as math\n",
    "\n",
    "from scipy.optimize import minimize, minimize_scalar\n"
   ]
  },
  {
   "cell_type": "code",
   "execution_count": 2,
   "metadata": {},
   "outputs": [],
   "source": [
    "\n",
    "import household as model\n",
    "hsm = model.HouseholdSpecializationModelClass()\n",
    "\n",
    "model=hsm\n",
    "par =model.par\n",
    "sol =model.sol\n"
   ]
  },
  {
   "cell_type": "markdown",
   "metadata": {},
   "source": [
    "# Question 1"
   ]
  },
  {
   "cell_type": "markdown",
   "metadata": {},
   "source": [
    "**Explain how you solve the model**"
   ]
  },
  {
   "cell_type": "code",
   "execution_count": 3,
   "metadata": {},
   "outputs": [
    {
     "name": "stderr",
     "output_type": "stream",
     "text": [
      "/Users/josefine/ITP/projects-2023-jc/inauguralproject/household.py:68: RuntimeWarning: invalid value encountered in reciprocal\n",
      "  utility = np.fmax(Q,1e-8)**(1-par.rho)/(1-par.rho)\n"
     ]
    },
    {
     "name": "stdout",
     "output_type": "stream",
     "text": [
      "HF: 4.5 for alpha and sigma: (0.5, 1.0)\n",
      "HM: 4.5 for alpha and sigma: (0.5, 1.0)\n",
      "1.0\n"
     ]
    }
   ],
   "source": [
    "#Minimum i household.py virker ikke pt, skal der kigges på \n",
    "#Det er løst for sigma=1 og alpha=0.5, der skal findes ud af hvordan man løse for alle de værdier opgivet i opgaven\n",
    "dsol = hsm.solve_discrete()\n",
    "\n",
    "print(f'HF: {dsol.HF} for alpha and sigma: {hsm.par.alpha, hsm.par.sigma}')\n",
    "print(f'HM: {dsol.HM} for alpha and sigma: {hsm.par.alpha, hsm.par.sigma}')\n",
    "\n",
    "print(dsol.HF/dsol.HM)"
   ]
  },
  {
   "cell_type": "markdown",
   "metadata": {},
   "source": [
    "# Question 2"
   ]
  },
  {
   "cell_type": "markdown",
   "metadata": {},
   "source": [
    "Explain your code and procedure"
   ]
  },
  {
   "cell_type": "code",
   "execution_count": 4,
   "metadata": {},
   "outputs": [
    {
     "name": "stdout",
     "output_type": "stream",
     "text": [
      "0.0\n",
      "0.0\n"
     ]
    }
   ],
   "source": [
    "#Test af log (skal ikke bruges)\n",
    "logHM = math.log(dsol.HM)\n",
    "logHF = math.log(dsol.HF)\n",
    "logwF = math.log(par.wF)\n",
    "logwM = math.log(par.wM)\n",
    "\n",
    "# log til opgave 2 for H og w\n",
    "logH = math.log(dsol.HF/dsol.HM)\n",
    "logw = math.log(par.wM/par.wF)\n",
    "print(logH)\n",
    "print(logw)"
   ]
  },
  {
   "attachments": {},
   "cell_type": "markdown",
   "metadata": {},
   "source": [
    "Comments and conclusion:\n"
   ]
  },
  {
   "cell_type": "markdown",
   "metadata": {},
   "source": [
    "# Question 3"
   ]
  },
  {
   "cell_type": "markdown",
   "metadata": {},
   "source": [
    "Explain your code and procedure"
   ]
  },
  {
   "cell_type": "code",
   "execution_count": null,
   "metadata": {},
   "outputs": [],
   "source": []
  },
  {
   "attachments": {},
   "cell_type": "markdown",
   "metadata": {},
   "source": [
    "Comments and conclusion"
   ]
  },
  {
   "attachments": {},
   "cell_type": "markdown",
   "metadata": {},
   "source": [
    "# Question 4"
   ]
  },
  {
   "cell_type": "code",
   "execution_count": null,
   "metadata": {},
   "outputs": [],
   "source": []
  },
  {
   "attachments": {},
   "cell_type": "markdown",
   "metadata": {},
   "source": [
    "Comments and conclusion"
   ]
  },
  {
   "attachments": {},
   "cell_type": "markdown",
   "metadata": {},
   "source": [
    "# Question 5"
   ]
  },
  {
   "cell_type": "code",
   "execution_count": null,
   "metadata": {},
   "outputs": [],
   "source": []
  },
  {
   "attachments": {},
   "cell_type": "markdown",
   "metadata": {},
   "source": [
    "Comments and conclusion\n"
   ]
  },
  {
   "cell_type": "code",
   "execution_count": null,
   "metadata": {},
   "outputs": [],
   "source": []
  },
  {
   "attachments": {},
   "cell_type": "markdown",
   "metadata": {},
   "source": []
  },
  {
   "cell_type": "code",
   "execution_count": null,
   "metadata": {},
   "outputs": [],
   "source": [
    "#**Diverse\n",
    "# Parameters\n",
    "rho = 2\n",
    "v = 0.001\n",
    "epsilon = 1\n",
    "omega = 0.5\n",
    "alpha = 0.5\n",
    "sigma = 1 \n",
    "wages_m = 1\n",
    "wages_f = 1\n",
    "labour_m = 30\n",
    "labour_f = 20\n",
    "hours_m = 12\n",
    "hours_f = 10\n",
    "\n",
    "consumption = wages_m*labour_m + wages_f*labour_f\n",
    "print(consumption)\n",
    "\n",
    "t_m=labour_m+hours_m\n",
    "t_f=labour_f+hours_f\n",
    "\n",
    "\n",
    "def h(hour_m, hour_f, alpha, sigma):\n",
    "    h[sigma = 0] = np.fmin(hours_m,hours_f)\n",
    "    h[sigma = 1] = hours_m**(1-alpha)*hours_f**(alpha)\n",
    "    h[simga != 0,1] =(1-alpha)*hours_m**((sigma-1)/sigma)+alpha*hours_f**((sigma-1)/sigma)\n",
    "    \n",
    "    return h\n",
    "\n",
    "q = consumption**omega*h**(1-omega)"
   ]
  }
 ],
 "metadata": {
  "kernelspec": {
   "display_name": "Python 3",
   "language": "python",
   "name": "python3"
  },
  "language_info": {
   "codemirror_mode": {
    "name": "ipython",
    "version": 3
   },
   "file_extension": ".py",
   "mimetype": "text/x-python",
   "name": "python",
   "nbconvert_exporter": "python",
   "pygments_lexer": "ipython3",
   "version": "3.9.13"
  },
  "toc-autonumbering": true,
  "vscode": {
   "interpreter": {
    "hash": "40d3a090f54c6569ab1632332b64b2c03c39dcf918b08424e98f38b5ae0af88f"
   }
  }
 },
 "nbformat": 4,
 "nbformat_minor": 4
}
