{
 "cells": [
  {
   "cell_type": "markdown",
   "metadata": {},
   "source": [
    "# Inaugural Project"
   ]
  },
  {
   "attachments": {},
   "cell_type": "markdown",
   "metadata": {},
   "source": [
    "# The setting given"
   ]
  },
  {
   "attachments": {},
   "cell_type": "markdown",
   "metadata": {},
   "source": [
    "$$ C = w_M * L_M + w_F * L_F $$\n",
    "\n",
    "$$ Q = C^\\omega * H^(1-\\omega) $$\n",
    "\n",
    "$$ T_M = L_M + H_M $$\n",
    "\n",
    "$$ T_F = L_F + H_F $$\n",
    "\n",
    "$$ L_M, H_M, L_F, H_F >= 0 $$\n",
    "\n",
    "$$ T_M, T_F <= 24 $$"
   ]
  },
  {
   "attachments": {},
   "cell_type": "markdown",
   "metadata": {},
   "source": [
    "# Setting the basics"
   ]
  },
  {
   "cell_type": "code",
   "execution_count": 2,
   "metadata": {},
   "outputs": [],
   "source": [
    "%load_ext autoreload\n",
    "%autoreload 2\n",
    "\n",
    "from types import SimpleNamespace\n",
    "\n",
    "import numpy as np\n",
    "from scipy import optimize\n",
    "\n",
    "import pandas as pd \n",
    "import matplotlib.pyplot as plt\n",
    "\n",
    "import math as math\n",
    "\n",
    "from scipy.optimize import minimize, minimize_scalar\n",
    "from collections import defaultdict"
   ]
  },
  {
   "cell_type": "code",
   "execution_count": 3,
   "metadata": {},
   "outputs": [],
   "source": [
    "import household as model\n",
    "hsm = model.HouseholdSpecializationModelClass()"
   ]
  },
  {
   "cell_type": "markdown",
   "metadata": {},
   "source": [
    "# Question 1"
   ]
  },
  {
   "cell_type": "code",
   "execution_count": 8,
   "metadata": {},
   "outputs": [
    {
     "name": "stdout",
     "output_type": "stream",
     "text": [
      "alpha \\ sigma|       0.5      1.00      1.50\n",
      "-------------+-------------------------------\n"
     ]
    },
    {
     "name": "stderr",
     "output_type": "stream",
     "text": [
      "/Users/camillamansson/Dropbox/KU/2. semester/Introduction to Programming/projects-2023-jc/inauguralproject/household.py:64: RuntimeWarning: divide by zero encountered in reciprocal\n",
      "  H = ((1-par.alpha)*HM**((par.sigma-1)/par.sigma)+par.alpha*HF**((par.sigma-1)/par.sigma))**(par.sigma/(par.sigma-1))\n",
      "/Users/camillamansson/Dropbox/KU/2. semester/Introduction to Programming/projects-2023-jc/inauguralproject/household.py:64: RuntimeWarning: invalid value encountered in reciprocal\n",
      "  H = ((1-par.alpha)*HM**((par.sigma-1)/par.sigma)+par.alpha*HF**((par.sigma-1)/par.sigma))**(par.sigma/(par.sigma-1))\n",
      "/Users/camillamansson/Dropbox/KU/2. semester/Introduction to Programming/projects-2023-jc/inauguralproject/household.py:68: RuntimeWarning: invalid value encountered in reciprocal\n",
      "  utility = np.fmax(Q,1e-8)**(1-par.rho)/(1-par.rho)\n"
     ]
    },
    {
     "name": "stdout",
     "output_type": "stream",
     "text": [
      "         0.25|      0.55      0.31      0.21\n",
      "         0.50|      1.00      1.00      1.00\n",
      "         0.75|      1.83      3.25      4.67\n"
     ]
    },
    {
     "data": {
      "image/png": "[encoded data removed]",
      "text/plain": [
       "<Figure size 640x480 with 1 Axes>"
      ]
     },
     "metadata": {},
     "output_type": "display_data"
    }
   ],
   "source": [
    "model = hsm\n",
    "par = model.par\n",
    "sol = model.sol\n",
    "\n",
    "# Defining values for alpha and sigma given in the exercise. And defining a variable to store strings\n",
    "alpha_values = [0.25, 0.5, 0.75]\n",
    "sigma_values = [0.5, 1.0, 1.5]\n",
    "st_string = defaultdict(str)\n",
    "\n",
    "# Creating a dataframe - alpha valuess are the columns and sigma valuess are the rows\n",
    "df = pd.DataFrame(columns = alpha_values, index = sigma_values)\n",
    "\n",
    "#i. Print header with sigma values\n",
    "header = rf\"alpha \\ sigma|{sigma_values[0]:10.2}{sigma_values[1]:10.2f}{sigma_values[2]:10.2f}\"\n",
    "print(header)\n",
    "\n",
    "#ii. Print seperator\n",
    "print(f\"{'-'*len(header[:header.index('|')])}+{'-'*len(header[header.index('|'):])}\")\n",
    "\n",
    "# Making a loop with alpha and sigma and use 'solve_discrete' to HF and HM\n",
    "for i in alpha_values:\n",
    "    #o. Print index with alpha values\n",
    "    st_string[i] = f\"{i:13.2f}|\"\n",
    "    for j in sigma_values:\n",
    "        #alpha added to the model\n",
    "        hsm.par.alpha = i\n",
    "        #sigma added to the model\n",
    "        hsm.par.sigma = j \n",
    "        #solve the model as dsol\n",
    "        dsol = hsm.solve_discrete()\n",
    "        #find the ratio between HF and HM\n",
    "        ratio_HFHM = dsol.HF/dsol.HM\n",
    "        #output added to a string\n",
    "        st_string[i] += f\"{ratio_HFHM:10.2f}\"\n",
    "        #add the ratio to the dataframe created earlier\n",
    "        df.loc[j,i] = ratio_HFHM\n",
    "\n",
    "    #Print the outout for alpha and sigma\n",
    "    print(st_string[i])\n",
    "\n",
    "#Plotting HF/HM on alpha for every valye of sigma:\n",
    "fig, ax = plt.subplots()\n",
    "for j in sigma_values:\n",
    "    y = [df.loc[j,i] for i in alpha_values]\n",
    "    ax.plot(alpha_values, y, label=f\"$\\u03c3$ = {j}\")\n",
    "ax.set_xlabel(\"$\\u03b1$\")\n",
    "ax.set_ylabel(\"$H_F/H_M$\")\n",
    "ax.legend()\n",
    "plt.show()"
   ]
  },
  {
   "attachments": {},
   "cell_type": "markdown",
   "metadata": {},
   "source": [
    "The table shows that, when $\\alpha = 0.25$ we will see a decrease in $H_F/H_M$ as $\\sigma$ increases. When $\\alpha = 0.50$, we see that $H_F/H_M = 1.0$ for all values of $\\sigma$. At the end, when $\\alpha = 0.75$, the ratio of $H_F/H_M$ are above 1 for all values of $\\sigma$. It increases from 1.8 for $\\sigma = 0.5$, to 3.25 for $\\sigma = 1.0$ and to 4.67 for $\\sigma = 1.5$\n",
    "\n",
    "We have also shown the relationsship in the graph above, where the x-ais represents $\\alpha$ and the y-axis represents the ratio between $H_F/H_M$. In the top left corner it is possible to see what the 3 different graphs represents. The blue graph represents $\\sigma = 0.5$, the orange is $\\sigma = 1.0$, and the last green line is for $\\sigma = 1.5$. "
   ]
  },
  {
   "cell_type": "markdown",
   "metadata": {},
   "source": [
    "# Question 2"
   ]
  },
  {
   "cell_type": "code",
   "execution_count": null,
   "metadata": {},
   "outputs": [],
   "source": [
    "hsm.par.alpha = 0.5\n",
    "hsm.par.sigma = 1\n",
    "\n",
    "wF_values = np.array([0.8, 0.9, 1.0, 1.1, 1.2])\n",
    "\n",
    "#creating empty lists for storing results, (5) is the number of values.\n",
    "log_HF_HM = np.zeros(5)\n",
    "log_WF_WM = np.zeros(5)\n",
    "\n",
    "for i, wFl in enumerate(wF_values):\n",
    "    hsm.par.wF = wFl\n",
    "    opt = hsm.solve_discrete()\n",
    "\n",
    "    log_HF_HM[i] = np.log(opt.HF/opt.HM)\n",
    "    log_WF_WM[i] = np.log(hsm.par.wF/hsm.par.wM)\n",
    "\n",
    "# plot \n",
    "plt.plot(log_WF_WM,log_HF_HM,marker='o')\n",
    "\n",
    "# Set plot labels and title\n",
    "plt.xlabel('$log(W_F/W_M)$')\n",
    "plt.ylabel('$log(H_F/H_M)$')\n",
    "plt.title('Logarithmic plot between ratio of wage and hours worked')\n",
    "\n",
    "#Giving notations to the different coordinates  \n",
    "for i in range(5):\n",
    "    plt.annotate(f\"({log_WF_WM[i]:.2f}, {log_HF_HM[i]:.2f})\", (log_WF_WM[i]+0.005, log_HF_HM[i]+0.005))\n",
    "\n",
    "plt.show()"
   ]
  },
  {
   "cell_type": "markdown",
   "metadata": {},
   "source": [
    "# Question 3"
   ]
  },
  {
   "cell_type": "code",
   "execution_count": null,
   "metadata": {},
   "outputs": [],
   "source": [
    "hsm.par.alpha = 0.5\n",
    "hsm.par.sigma = 1\n",
    "\n",
    "wF_values = np.array([0.8, 0.9, 1.0, 1.1, 1.2])\n",
    "\n",
    "#creating empty lists for storing results, (5) is the number of values.\n",
    "log_HF_HM = np.zeros(5)\n",
    "log_WF_WM = np.zeros(5)\n",
    "\n",
    "for i, wFl in enumerate(wF_values):\n",
    "    hsm.par.wF = wFl\n",
    "    opt = hsm.solve_con()\n",
    "\n",
    "    log_HF_HM[i] = np.log(opt.HF/opt.HM)\n",
    "    log_WF_WM[i] = np.log(hsm.par.wF/hsm.par.wM)\n",
    "\n",
    "# plot \n",
    "plt.plot(log_WF_WM,log_HF_HM,marker='o')\n",
    "\n",
    "# Set plot labels and title\n",
    "plt.xlabel(\"Hours ratio\")\n",
    "plt.ylabel(\"Wages ratio\")\n",
    "plt.title('Logarithmic plot of the wage and hours worked ratio')\n",
    "\n",
    "#Giving notations to the different coordinates  \n",
    "for i in range(5):\n",
    "    plt.annotate(f\"({log_WF_WM[i]:.2f}, {log_HF_HM[i]:.2f})\", (log_WF_WM[i]+0.005, log_HF_HM[i]+0.005))\n",
    "\n",
    "plt.show()"
   ]
  },
  {
   "attachments": {},
   "cell_type": "markdown",
   "metadata": {},
   "source": [
    "Comments and conclusion"
   ]
  },
  {
   "attachments": {},
   "cell_type": "markdown",
   "metadata": {},
   "source": [
    "# Question 4"
   ]
  },
  {
   "cell_type": "code",
   "execution_count": null,
   "metadata": {},
   "outputs": [],
   "source": [
    "#a\n",
    "#define the function to compute min_HF\n",
    "def min_HF(alpha, sigma, wM, wF):\n",
    "    if sigma == 0:\n",
    "        return wF / wM\n",
    "    else:\n",
    "        HM = 1\n",
    "        HF = ((wM ** (1 - alpha) * wF ** alpha) ** (sigma / (1 - alpha))) * HM\n",
    "        return min(HM, HF)\n",
    "    \n",
    "#define the function to compute beta0_hat and beta1_hat for a given a, sigma, and range of wM and wF\n",
    "def compute_betas(alpha, sigma, w_range):\n",
    "    beta0_hat = 0\n",
    "    beta1_hat = 0\n",
    "    n = 0\n",
    "    for wF in w_range:\n",
    "        for wM in w_range:\n",
    "            if wM != wF:\n",
    "                log_HF_HM = np.log(min_HF(alpha, sigma, wM, wF))\n",
    "                log_wF_wM = np.log(wF / wM)\n",
    "\n",
    "                beta0_hat += log_HF_HM\n",
    "                beta1_hat += log_wF_wM\n",
    "                n += 1\n",
    "                \n",
    "    beta0_hat /= n\n",
    "    beta1_hat /= n\n",
    "\n",
    "    return beta0_hat, beta1_hat\n",
    "\n",
    "# set the values of a and sigma to try\n",
    "a_values = np.linspace(0.2, 0.8, 4)\n",
    "sigma_values = [0, 0.5, 1, 1.5, 2]\n",
    "\n",
    "# set the actual values of beta0 and beta1\n",
    "beta0 = hsm.par.beta0_target\n",
    "beta1 = hsm.par.beta1_target\n",
    "\n",
    "# define the function to compute the minimum distance between the estimated and actual betas\n",
    "def compute_distance(a, sigma):\n",
    "    beta0_hat, beta1_hat = compute_betas(a, sigma, w_range = np.array([0.8, 0.9, 1.0, 1.1, 1.2]))\n",
    "    distance = (beta0 - beta0_hat)**2 + (beta1 - beta1_hat)**2\n",
    "\n",
    "    return distance\n",
    "\n",
    "# initialize the variables\n",
    "best_a = None\n",
    "best_sigma = None\n",
    "min_distance = float('inf')\n",
    "\n",
    "# loop over all combinations of a and sigma\n",
    "for a in a_values:\n",
    "    for sigma in sigma_values:\n",
    "        distance = compute_distance(hsm.par.alpha, hsm.par.sigma)\n",
    "\n",
    "        if distance < min_distance:\n",
    "            best_a = a\n",
    "            best_sigma = sigma\n",
    "            min_distance = distance\n",
    "\n",
    "# print the best values of alpha and sigma\n",
    "print(f\"Best values: a={best_a}, sigma={best_sigma}\")\n",
    "\n"
   ]
  },
  {
   "cell_type": "code",
   "execution_count": null,
   "metadata": {},
   "outputs": [],
   "source": [
    "#Define a function that computes log(HF/HM) given alpha, sigma, wM, and wF.\n",
    "def log_HF_HM(alpha, sigma, wM, wF):\n",
    "    if sigma == 0:\n",
    "        HF = wF**alpha * wM**(1-alpha)\n",
    "        HM = wM\n",
    "    else:\n",
    "        HF = (wF**(alpha*(1-sigma)) * (wM**(1-sigma))**((1-alpha)*sigma))**(1/(1-sigma))\n",
    "        HM = (wM**(alpha*(1-sigma)) * (wF**(1-sigma))**(alpha*sigma))**(1/(1-sigma))\n",
    "    return np.log(HF/HM)\n",
    "#Define a range of wM and wF values to plot\n",
    "wM_values = np.linspace(0.1, 2, 100)\n",
    "wF_values = np.linspace(0.1, 2, 100)\n",
    "\n",
    "#Create a meshgrid of wM and wF values \n",
    "wM_grid, wF_grid = np.meshgrid(wM_values, wF_values)\n",
    "\n",
    "#Compute the log(HF/HM) values for each combination of wM and wF\n",
    "log_HF_HM_grid = log_HF_HM(best_a, best_sigma, wM_grid, wF_grid)\n",
    "\n",
    "#Plot the results\n",
    "fig = plt.figure(figsize=(10, 8))\n",
    "ax = fig.add_subplot(111, projection='3d')\n",
    "ax.plot_surface(wM_grid, wF_grid, log_HF_HM_grid, cmap='coolwarm')\n",
    "ax.set_xlabel('wM')\n",
    "ax.set_ylabel('wF')\n",
    "ax.set_zlabel('log(HF/HM)')\n",
    "plt.show()"
   ]
  },
  {
   "attachments": {},
   "cell_type": "markdown",
   "metadata": {},
   "source": [
    "Comments and conclusion"
   ]
  },
  {
   "attachments": {},
   "cell_type": "markdown",
   "metadata": {},
   "source": [
    "4.a \n",
    "\n",
    "We estimated that the best value for alpha is 0.2 and for sigma it is 0. An interpretation of the result would be that home production is more productive for women than for men, with a ratio of aboit 1,2(1,2/1). This is due to alpha representing the weight of women's wages in the production function (H_F defined in the code) and the productivity of home production is the same for men and women since sigma is 0. This implies that the ratio of women's to men's home production is constant regardless to the level of wages. "
   ]
  },
  {
   "attachments": {},
   "cell_type": "markdown",
   "metadata": {},
   "source": [
    "4.b\n",
    "\n",
    "First, let's define the variables that is included in the graph. log(H_F/H_M) reflects the natural logarithm of hours worked at home by men and women. w_M and w_F illustrates the wage for men and women. An increase in the ratio indicates that women work relatively more in home production than men. \n",
    "\n",
    "To interpret the results, we examine the shape of the surface and look for patterns or trends. For example, we notice that the surface slopes downwards as w_F increases relative to w_M, which suggests that the division of labor is skewed towards female specialization in tasks that require more time. This could indicate that the division of labor is not equal and that there is a gender bias in the taqsks that are assigned. Furthermore, this could lead to a decrease in productivity and efficiency as those tasks that require more time are not being completed in a timely manner. Furthermore, we observe that the surface is relatively flat, indicating that the division of labor is relativelu balanced between male and female tasks. This gender bias could be attributed to several factors, such as cultural norms that dictate certain tasks are best suited for either men or women. Or the fact that women may be more willing to take on tasks that require more time due to the lack of oth4er opportunities or resources. Additionally, it may also be due to a lack of training and education, leading to a lack of knowleadge and skills necessary to complete tasks quickly. \n",
    "\n",
    "These interpretations can help to look on the economic mechanisms driving the observed relationship between log(H_F/H_M) and log(w_F/w_M) in the regression model and may help guide future research or policy recommendations. "
   ]
  },
  {
   "attachments": {},
   "cell_type": "markdown",
   "metadata": {},
   "source": [
    "# Question 5"
   ]
  },
  {
   "cell_type": "code",
   "execution_count": null,
   "metadata": {},
   "outputs": [],
   "source": [
    "# Define the objective function using the retrieved parameter values\n",
    "def obj_func(x, sigma_m, sigma_f, par):\n",
    "    beta0, beta1 = x\n",
    "    return ((par.wM*sigma_m)**2 + (par.wF*sigma_f)**2 + (par.alpha - beta0 - beta1*par.omega)**2/(par.rho*sigma_f**2) + ((1-par.alpha) - beta0 - beta1*(1-par.omega))**2/(par.rho*sigma_m**2) + (beta1**2/par.nu))\n",
    "\n",
    "# Find the optimal values of sigma, beta0, and beta1\n",
    "par = hsm.par\n",
    "sigma_m = 1.5\n",
    "sigma_f = 2\n",
    "res = minimize_scalar(lambda s: obj_func([0.5, 0.5], s, s, par), bounds=(0.1,10), method='bounded')\n",
    "sigma_opt = res.x  # res is a variable that stores the out returned\n",
    "res = minimize(lambda x: obj_func(x, sigma_opt, sigma_opt, par), [par.beta0_target, par.beta1_target], bounds=((0,None),(0,None)))\n",
    "beta_opt = res.x\n",
    "obj_min = res.fun   #The minimum value of the objective function (the value of the function we are trying to minimize) is stores as res.fun :)\n",
    "\n",
    "# Find the optimal values of sigma_m and sigma_f\n",
    "res = minimize(lambda x: obj_func([0.5, 0.5], x[0], x[1], par), [1, 1], bounds=((0.1,10),(0.1,10)))\n",
    "sigma_m_opt, sigma_f_opt = res.x\n",
    "res = minimize(lambda x: obj_func(x, sigma_m_opt, sigma_f_opt, par), [par.beta0_target, par.beta1_target], bounds=((0,None),(0,None)))\n",
    "beta_mf_opt = res.x\n",
    "obj_mf_min = res.fun\n",
    "\n",
    "print(f\"The optimal values of sigma, beta0, and beta1 are: {sigma_opt:.2f}, {beta_opt[0]:.2f}, {beta_opt[1]:.2f}\")\n",
    "print(f\"The minimum objective value is: {obj_min:.2f}\")\n",
    "print(f\"The optimal values of sigma_m, sigma_f, beta0, and beta1 are: {sigma_m_opt:.2f}, {sigma_f_opt:.2f}, {beta_mf_opt[0]:.2f}, {beta_mf_opt[1]:.2f}\")\n",
    "print(f\"The minimum objective value is: {obj_mf_min:.2f}\")\n",
    "\n",
    "#This code allows for different values of sigma for male and female home production and also includes the extension \n",
    "#where men and women are equally productive in home production."
   ]
  },
  {
   "attachments": {},
   "cell_type": "markdown",
   "metadata": {},
   "source": [
    "Comments and conclusion\n"
   ]
  },
  {
   "attachments": {},
   "cell_type": "markdown",
   "metadata": {},
   "source": [
    "One possible extension to the model could be to allow for different values of sigma for male and female home production. This could capture the idea that men and women may have different abilities or preferences when it comes to home production. \n",
    "\n",
    "The output tells us that the optimal values of the parameters for different models. The firs model assumes that men and women are equally productive in home production (i.e., alpha=0.5) and the second model allows for different values of sigma for male and female home production. \n",
    "\n",
    "For the first model we see that the optimal value of sigma is 0.42, and the optimal values of beta_0 is 0.5 and beta_1 is 0.0. This means that when men and women are not equally productive in home procution, the specialization and comparative advantage model does not explain the time use data we2ll, since the optimal values of beta_0 and beta_1 are different from the estimated values in the original paper (Siminski and Yetsinga). However, they are close to. Additionally, the objective values of 0.35 indicates that the model almost perfectly matches the data in this case (as it is close to zero). \n",
    "\n",
    "For the second model, we see that the optimal values of sigma_M and sigma_F are 0.42 and the optmal values of beta_0 and beta_1 are 0.5 and 0.0. This model allows for different values of sigma for male and female production, but it sill assumes that men and women are equilly productive in home production (i.e., alpha = 0.5). The fact that the optimal values of beta_0 and beta_1 are the same as in the first model suggests thast the allowing for different values of sigma for male and female home production does not improve the fit of the model to the data in this case. "
   ]
  }
 ],
 "metadata": {
  "kernelspec": {
   "display_name": "base",
   "language": "python",
   "name": "python3"
  },
  "language_info": {
   "codemirror_mode": {
    "name": "ipython",
    "version": 3
   },
   "file_extension": ".py",
   "mimetype": "text/x-python",
   "name": "python",
   "nbconvert_exporter": "python",
   "pygments_lexer": "ipython3",
   "version": "3.9.13"
  },
  "toc-autonumbering": true,
  "vscode": {
   "interpreter": {
    "hash": "ab523fa953285e999c653d9196e3ac79cd76b8e707897ce907d22f14bb60d3c8"
   }
  }
 },
 "nbformat": 4,
 "nbformat_minor": 4
}
