{
 "cells": [
  {
   "cell_type": "markdown",
   "metadata": {},
   "source": [
    "# YOUR PROJECT TITLE"
   ]
  },
  {
   "attachments": {},
   "cell_type": "markdown",
   "metadata": {},
   "source": [
    "> **Note the following:** \n",
    "> 1. This is *not* meant to be an example of an actual **model analysis project**, just an example of how to structure such a project.\n",
    "> 1. Remember the general advice on structuring and commenting your code\n",
    "> 1. The `modelproject.py` file includes a function which could be used multiple times in this notebook."
   ]
  },
  {
   "cell_type": "markdown",
   "metadata": {},
   "source": [
    "Imports and set magics:"
   ]
  },
  {
   "cell_type": "code",
   "execution_count": 3,
   "metadata": {},
   "outputs": [
    {
     "name": "stdout",
     "output_type": "stream",
     "text": [
      "The autoreload extension is already loaded. To reload it, use:\n",
      "  %reload_ext autoreload\n"
     ]
    }
   ],
   "source": [
    "import sympy as sm\n",
    "import pandas as pd\n",
    "import numpy as np\n",
    "import matplotlib.pyplot as plt\n",
    "from scipy import optimize\n",
    "\n",
    "# autoreload modules when code is run\n",
    "%load_ext autoreload\n",
    "%autoreload 2\n",
    "\n",
    "# local modules\n",
    "import modelproject as mp"
   ]
  },
  {
   "cell_type": "markdown",
   "metadata": {},
   "source": [
    "# Model description"
   ]
  },
  {
   "attachments": {},
   "cell_type": "markdown",
   "metadata": {},
   "source": [
    "We will use the Solow Growth model in this assignment\n",
    "The Solow Growth model is an exogenous model for economic growth, which analyzes changes in the level of output over time in an economy as a result of changes in the savings rate, population growth and the rate of technology. "
   ]
  },
  {
   "attachments": {},
   "cell_type": "markdown",
   "metadata": {},
   "source": [
    "Assuming a Cobb-Douglas production function and a constant total factor productivity (i.e. A=1)\n",
    "\n",
    "You can see the relevant equations we will use below, where k* and y* are steady state "
   ]
  },
  {
   "attachments": {},
   "cell_type": "markdown",
   "metadata": {},
   "source": [
    "$$y_{t+1}=A\\cdot k^\\alpha_{t+1}\n"
   ]
  },
  {
   "attachments": {},
   "cell_type": "markdown",
   "metadata": {},
   "source": [
    "$$k_{t+1}=k_t+s\\cdot y_t-(\\delta+n)\\cdot k_t"
   ]
  },
  {
   "attachments": {},
   "cell_type": "markdown",
   "metadata": {},
   "source": [
    "$$k^*=\\frac{s\\cdot A}{\\delta+n}^{\\frac{1}{1-\\alpha}}"
   ]
  },
  {
   "attachments": {},
   "cell_type": "markdown",
   "metadata": {},
   "source": [
    "$$y^*=A\\cdot k^\\alpha"
   ]
  },
  {
   "cell_type": "markdown",
   "metadata": {},
   "source": [
    "**Write out the model in equations here.** \n",
    "\n",
    "Make sure you explain well the purpose of the model and comment so that other students who may not have seen it before can follow.  "
   ]
  },
  {
   "cell_type": "markdown",
   "metadata": {},
   "source": [
    "## Analytical solution"
   ]
  },
  {
   "cell_type": "markdown",
   "metadata": {},
   "source": [
    "If your model allows for an analytical solution, you should provide here.\n",
    "\n",
    "You may use Sympy for this. Then you can characterize the solution as a function of a parameter of the model.\n",
    "\n",
    "To characterize the solution, first derive a steady state equation as a function of a parameter using Sympy.solve and then turn it into a python function by Sympy.lambdify. See the lecture notes for details. "
   ]
  },
  {
   "attachments": {},
   "cell_type": "markdown",
   "metadata": {},
   "source": [
    "We plot the Solow Growth model for Country A and B with their respective steady state values. "
   ]
  },
  {
   "cell_type": "code",
   "execution_count": null,
   "metadata": {},
   "outputs": [],
   "source": [
    "plt.figure(figsize=(10, 6))\n",
    "\n",
    "#we create labels to the plot:\n",
    "plt.plot(mp.k_A, label=\"Country A: Capital per worker (k)\")\n",
    "plt.plot(mp.y_A, label=\"Country A: Output per worker (y)\")\n",
    "plt.plot(mp.k_B, label=\"Country B: Capital per worker (k)\")\n",
    "plt.plot(mp.y_B, label=\"Country B: Output per worker (y)\")\n",
    "\n",
    "#We give specification to the lines, what they should show, color, label and linewidth \n",
    "plt.axhline(y=mp.steady_state_A[0], color='blue', linestyle='--', label=\"Country A: Steady-state k*\", linewidth = '0.5')\n",
    "plt.axhline(y=mp.steady_state_A[1], color='orange', linestyle='--', label=\"Country A: Steady-state y*\", linewidth = '0.5')\n",
    "plt.axhline(y=mp.steady_state_B[0], color='green', linestyle='--', label=\"Country B: Steady-state k*\", linewidth = '0.5')\n",
    "plt.axhline(y=mp.steady_state_B[1], color='red', linestyle='--', label=\"Country B: Steady-state y*\", linewidth = '0.5')\n",
    "\n",
    "#We give titles to the y- and x-axis:\n",
    "plt.xlabel(\"Time (years)\")\n",
    "plt.ylabel(\"Values\")\n",
    "\n",
    "#We give title to the plot\n",
    "plt.title(\"Convergence of Capital per Worker and Output per Worker\")\n",
    "plt.legend()\n",
    "plt.show()"
   ]
  },
  {
   "attachments": {},
   "cell_type": "markdown",
   "metadata": {},
   "source": [
    "Explanation of plot\n"
   ]
  },
  {
   "attachments": {},
   "cell_type": "markdown",
   "metadata": {},
   "source": [
    "Introduction to the next plot"
   ]
  },
  {
   "cell_type": "code",
   "execution_count": null,
   "metadata": {},
   "outputs": [],
   "source": [
    "plt.figure(figsize=(10, 6))\n",
    "plt.plot(mp.s_values, mp.k_star_values_A, label=\"Country A: Steady-state capital per worker (k*)\")\n",
    "plt.plot(mp.s_values, mp.y_star_values_A, label=\"Country A: Steady-state output per worker (y*)\")\n",
    "plt.xlabel(\"Savings Rate (s)\")\n",
    "plt.ylabel(\"Steady-state Values\")\n",
    "plt.title(\"Sensitivity Analysis of Steady-state Capital per Worker and Output per Worker to Savings Rate\")\n",
    "plt.legend()\n",
    "plt.show()"
   ]
  },
  {
   "attachments": {},
   "cell_type": "markdown",
   "metadata": {},
   "source": [
    "Explanation of the plot"
   ]
  },
  {
   "attachments": {},
   "cell_type": "markdown",
   "metadata": {},
   "source": [
    "Introduction to the next plot"
   ]
  },
  {
   "cell_type": "code",
   "execution_count": null,
   "metadata": {},
   "outputs": [],
   "source": [
    "plt.figure(figsize=(10, 6))\n",
    "plt.plot(mp.delta_values_specific, mp.k_star_values_A_delta_specific, label=\"Country A: Steady-state capital per worker (k*)\", marker=\"o\")\n",
    "plt.plot(mp.delta_values_specific, mp.y_star_values_A_delta_specific, label=\"Country A: Steady-state output per worker (y*)\", marker=\"o\")\n",
    "plt.xlabel(\"Depreciation Rate (δ)\")\n",
    "plt.ylabel(\"Steady-state Values\")\n",
    "plt.title(\"Sensitivity Analysis of Steady-state Capital per Worker and Output per Worker to Depreciation Rate for Country A\")\n",
    "plt.legend()\n",
    "plt.show()"
   ]
  },
  {
   "attachments": {},
   "cell_type": "markdown",
   "metadata": {},
   "source": [
    "Explanation of the plot"
   ]
  },
  {
   "cell_type": "markdown",
   "metadata": {},
   "source": [
    "## Numerical solution"
   ]
  },
  {
   "cell_type": "markdown",
   "metadata": {},
   "source": [
    "You can always solve a model numerically. \n",
    "\n",
    "Define first the set of parameters you need. \n",
    "\n",
    "Then choose one of the optimization algorithms that we have gone through in the lectures based on what you think is most fitting for your model.\n",
    "\n",
    "Are there any problems with convergence? Does the model converge for all starting values? Make a lot of testing to figure these things out. "
   ]
  },
  {
   "cell_type": "code",
   "execution_count": 4,
   "metadata": {},
   "outputs": [
    {
     "name": "stdout",
     "output_type": "stream",
     "text": [
      "Country A: k* = 6.686, y* = 1.872\n",
      "Country B: k* = 25.615, y* = 3.659\n"
     ]
    }
   ],
   "source": [
    "#Printing the steady state values for country A and B with three decimals \n",
    "print(f\"Country A: k* = {mp.steady_state_A[0]:.3f}, y* = {mp.steady_state_A[1]:.3f}\") # If wondering 0 V 1 are indexes for k and y\n",
    "print(f\"Country B: k* = {mp.steady_state_B[0]:.3f}, y* = {mp.steady_state_B[1]:.3f}\")"
   ]
  },
  {
   "cell_type": "code",
   "execution_count": 5,
   "metadata": {},
   "outputs": [
    {
     "name": "stdout",
     "output_type": "stream",
     "text": [
      "Country B will catch up with Country A in terms of income per worker in 2 years.\n"
     ]
    }
   ],
   "source": [
    "if mp.catch_up_time is not None:\n",
    "    print(f\"Country B will catch up with Country A in terms of income per worker in {mp.catch_up_time} years.\")\n",
    "else:\n",
    "    print(\"Country B will not catch up with Country A in terms of income per worker within the simulated time period.\")\n"
   ]
  },
  {
   "cell_type": "markdown",
   "metadata": {},
   "source": [
    "# Further analysis"
   ]
  },
  {
   "cell_type": "markdown",
   "metadata": {},
   "source": [
    "Make detailed vizualizations of how your model changes with parameter values. \n",
    "\n",
    "Try to make an extension of the model. "
   ]
  },
  {
   "cell_type": "markdown",
   "metadata": {},
   "source": [
    "# Conclusion"
   ]
  },
  {
   "cell_type": "markdown",
   "metadata": {},
   "source": [
    "Add concise conclusion. "
   ]
  }
 ],
 "metadata": {
  "kernelspec": {
   "display_name": "base",
   "language": "python",
   "name": "python3"
  },
  "language_info": {
   "codemirror_mode": {
    "name": "ipython",
    "version": 3
   },
   "file_extension": ".py",
   "mimetype": "text/x-python",
   "name": "python",
   "nbconvert_exporter": "python",
   "pygments_lexer": "ipython3",
   "version": "3.9.13"
  },
  "toc-autonumbering": true,
  "vscode": {
   "interpreter": {
    "hash": "ab523fa953285e999c653d9196e3ac79cd76b8e707897ce907d22f14bb60d3c8"
   }
  }
 },
 "nbformat": 4,
 "nbformat_minor": 4
}
